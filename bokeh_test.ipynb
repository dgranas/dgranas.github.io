{
 "cells": [
  {
   "cell_type": "raw",
   "metadata": {},
   "source": [
    "<script>\n",
    "  function code_toggle() {\n",
    "    if (code_shown){\n",
    "      $('div.input').hide('500');\n",
    "      $('#toggleButton').val('Show Code')\n",
    "    } else {\n",
    "      $('div.input').show('500');\n",
    "      $('#toggleButton').val('Hide Code')\n",
    "    }\n",
    "    code_shown = !code_shown\n",
    "  }\n",
    "\n",
    "  $( document ).ready(function(){\n",
    "    code_shown=false;\n",
    "    $('div.input').hide()\n",
    "  });\n",
    "</script>\n",
    "<form action=\"javascript:code_toggle()\"><input type=\"submit\" id=\"toggleButton\" value=\"Show Code\"></form>"
   ]
  },
  {
   "cell_type": "code",
   "execution_count": null,
   "metadata": {
    "collapsed": true
   },
   "outputs": [],
   "source": [
    "from bokeh.plotting import figure, show, ColumnDataSource\n",
    "from bokeh.io import output_notebook\n",
    "import bokeh.palettes as bp\n",
    "import pandas as pd\n",
    "import collections\n",
    "import math\n",
    "import itertools\n",
    "import operator"
   ]
  },
  {
   "cell_type": "code",
   "execution_count": null,
   "metadata": {},
   "outputs": [],
   "source": [
    "output_notebook()"
   ]
  },
  {
   "cell_type": "code",
   "execution_count": null,
   "metadata": {
    "scrolled": true
   },
   "outputs": [],
   "source": [
    "df = pd.read_csv('all_data.txt')\n",
    "# columns are movies, rows are users"
   ]
  },
  {
   "cell_type": "code",
   "execution_count": null,
   "metadata": {
    "scrolled": true
   },
   "outputs": [],
   "source": [
    "# get rid of whitespace and characters that cause issues with pandas column names\n",
    "df.columns = [i.replace(' ','_') for i in df.columns]\n",
    "df.columns = [i.replace('(','') for i in df.columns]\n",
    "df.columns = [i.replace(')','') for i in df.columns]\n",
    "df.columns = [i.replace(':','') for i in df.columns]\n",
    "movies_with_rt = df.columns[1:]"
   ]
  },
  {
   "cell_type": "code",
   "execution_count": null,
   "metadata": {},
   "outputs": [],
   "source": [
    "# go over every cell in dataframe to get all guesses\n",
    "Point = collections.namedtuple('Point', 'movie user guess')\n",
    "Movie = collections.namedtuple('Movie', 'name rt_value')\n",
    "points = []\n",
    "for index, row in df.iterrows():\n",
    "    user = row.user\n",
    "    for movie in movies_with_rt:\n",
    "        guess = row[movie]\n",
    "        if not math.isnan(guess):\n",
    "            points.append(Point(movie, user, guess))\n",
    "            \n",
    "# build dict to convert movie column to name and rt_value\n",
    "movie_info = {}\n",
    "for movie in movies_with_rt:\n",
    "    movie_name = ' '.join(movie.split('_')[:-1])\n",
    "    rt_value = int(movie.split('_')[-1])\n",
    "    movie_info[movie] = Movie(movie_name, rt_value)\n",
    "    \n",
    "# get list of movies sorted by rt_value so can color them differently    \n",
    "movie_rt_value = [(movie, info.rt_value) for movie, info in movie_info.items()]\n",
    "sorted_movies = [i[0] for i in sorted(movie_rt_value, key=operator.itemgetter(1))]\n",
    "\n",
    "# get a color for each movie, cycling through a list of colors\n",
    "colors = list(itertools.islice(itertools.cycle(bp.d3['Category10'][10]), 0, len(movies_with_rt)))\n",
    "movie_to_color = {movie: color for movie, color in zip(sorted_movies, colors)}"
   ]
  },
  {
   "cell_type": "code",
   "execution_count": null,
   "metadata": {},
   "outputs": [],
   "source": [
    "rt_values = [movie_info[i.movie].rt_value for i in points]\n",
    "guesses = [i.guess for i in points]\n",
    "movies = [movie_info[i.movie].name for i in points]\n",
    "users = [i.user for i in points]\n",
    "colors = [movie_to_color[i.movie] for i in points]"
   ]
  },
  {
   "cell_type": "code",
   "execution_count": null,
   "metadata": {},
   "outputs": [],
   "source": [
    "source = ColumnDataSource(data=dict(\n",
    "    x=guesses,\n",
    "    y=rt_values,\n",
    "    movies=movies,\n",
    "    users=users,\n",
    "    color=colors\n",
    "))\n",
    "\n",
    "TOOLTIPS = [\n",
    "    ('user', '@users'),\n",
    "    ('movie', '@movies'),\n",
    "    ('RT', '@y'),\n",
    "    ('guess', '@x')\n",
    "]\n",
    "\n",
    "p = figure(plot_width=800, plot_height=800, tooltips=TOOLTIPS,\n",
    "           title=\"How well can redditors predict Rotten Tomato scores\")\n",
    "p.xaxis.axis_label = 'Guess'\n",
    "p.yaxis.axis_label = 'Actual'\n",
    "p.circle('x', 'y', color='color',size=10, source=source, fill_alpha=0.2, )\n",
    "p.line([0,100],[0,100])"
   ]
  },
  {
   "cell_type": "code",
   "execution_count": null,
   "metadata": {},
   "outputs": [],
   "source": [
    "show(p)"
   ]
  },
  {
   "cell_type": "code",
   "execution_count": null,
   "metadata": {
    "collapsed": true
   },
   "outputs": [],
   "source": []
  }
 ],
 "metadata": {
  "kernelspec": {
   "display_name": "Python 3",
   "language": "python",
   "name": "python3"
  },
  "language_info": {
   "codemirror_mode": {
    "name": "ipython",
    "version": 3
   },
   "file_extension": ".py",
   "mimetype": "text/x-python",
   "name": "python",
   "nbconvert_exporter": "python",
   "pygments_lexer": "ipython3",
   "version": "3.6.2"
  }
 },
 "nbformat": 4,
 "nbformat_minor": 2
}
